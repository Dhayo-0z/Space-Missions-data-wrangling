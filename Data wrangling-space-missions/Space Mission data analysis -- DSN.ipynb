{
 "cells": [
  {
   "cell_type": "markdown",
   "id": "540c7100",
   "metadata": {},
   "source": [
    "# ANALYSIS ON SPACE MISSION SINCE 1957"
   ]
  },
  {
   "cell_type": "markdown",
   "id": "ae4017fa",
   "metadata": {},
   "source": [
    "One of the biggest explorations mankind had achieved over the years is <b>Space Exploration</b>. The vast ecosystem of the space kindled the relentless inquisitiveness of mankind to persist in it's exploration. So, What is space exploration? <strong>Space exploration</strong> is the physical exploration of outer space, both by human spaceflights and by robotic airflights. During the 20th century the development of large liquid-fueled rocket engines started and allowed space exploration to become a practical possibility.\n",
    "\n",
    "The space exploration all began during the period of \"Space race\" (cold war)that was majorly dominated by the Soviet Union and the United States. On October 4, 1957 the Soviet Union launched the first human-made object to orbit Earth known as the USSR's Sputnik 1. After four years, April 12, 1961 Russian Lt. Yuri Gagarin became the first human to orbit Earth in Vostok 1."
   ]
  },
  {
   "cell_type": "markdown",
   "id": "21322890",
   "metadata": {},
   "source": [
    "So many explorations on space missions have been done between 20th and 21st century. More sophisticated space engines and rockets have also been built, in which companies from different countries in the industry had also explored. \n",
    "\n",
    "Dealing with this dataset on space missions gotten from Kaggle(insert a link to the dataset here), we have to go through a process of cleaning, structuring and enriching disorganized data(raw data) into a desired format, so that you can easily access and analyze it, which is known as <strong>Data Wrangling</strong>. Data wrangling is so important before we can move towards visualizing and analyzing the dataset. To execute this, we make use of python language, along with its library specifically for this purpose, known as \"Pandas\". Pandas is flexible to use regardless of the format of the dataset you're working with (i.e either xlsx, txt or csv formats)."
   ]
  },
  {
   "cell_type": "markdown",
   "id": "5576378a",
   "metadata": {},
   "source": [
    "The first step into wrangling this data set is to import the \"pandas\" python library and showing the raw statistical data of the space missions since 1957 till present "
   ]
  },
  {
   "cell_type": "code",
   "execution_count": 11,
   "id": "739a501f",
   "metadata": {},
   "outputs": [
    {
     "data": {
      "text/html": [
       "<div>\n",
       "<style scoped>\n",
       "    .dataframe tbody tr th:only-of-type {\n",
       "        vertical-align: middle;\n",
       "    }\n",
       "\n",
       "    .dataframe tbody tr th {\n",
       "        vertical-align: top;\n",
       "    }\n",
       "\n",
       "    .dataframe thead th {\n",
       "        text-align: right;\n",
       "    }\n",
       "</style>\n",
       "<table border=\"1\" class=\"dataframe\">\n",
       "  <thead>\n",
       "    <tr style=\"text-align: right;\">\n",
       "      <th></th>\n",
       "      <th>Unnamed: 0</th>\n",
       "      <th>Unnamed: 0.1</th>\n",
       "      <th>Company Name</th>\n",
       "      <th>Location</th>\n",
       "      <th>Datum</th>\n",
       "      <th>Detail</th>\n",
       "      <th>Status Rocket</th>\n",
       "      <th>Rocket</th>\n",
       "      <th>Status Mission</th>\n",
       "    </tr>\n",
       "  </thead>\n",
       "  <tbody>\n",
       "    <tr>\n",
       "      <th>0</th>\n",
       "      <td>0</td>\n",
       "      <td>0</td>\n",
       "      <td>SpaceX</td>\n",
       "      <td>LC-39A, Kennedy Space Center, Florida, USA</td>\n",
       "      <td>Fri Aug 07, 2020 05:12 UTC</td>\n",
       "      <td>Falcon 9 Block 5 | Starlink V1 L9 &amp; BlackSky</td>\n",
       "      <td>StatusActive</td>\n",
       "      <td>50</td>\n",
       "      <td>Success</td>\n",
       "    </tr>\n",
       "    <tr>\n",
       "      <th>1</th>\n",
       "      <td>1</td>\n",
       "      <td>1</td>\n",
       "      <td>CASC</td>\n",
       "      <td>Site 9401 (SLS-2), Jiuquan Satellite Launch Ce...</td>\n",
       "      <td>Thu Aug 06, 2020 04:01 UTC</td>\n",
       "      <td>Long March 2D | Gaofen-9 04 &amp; Q-SAT</td>\n",
       "      <td>StatusActive</td>\n",
       "      <td>29.75</td>\n",
       "      <td>Success</td>\n",
       "    </tr>\n",
       "    <tr>\n",
       "      <th>2</th>\n",
       "      <td>2</td>\n",
       "      <td>2</td>\n",
       "      <td>SpaceX</td>\n",
       "      <td>Pad A, Boca Chica, Texas, USA</td>\n",
       "      <td>Tue Aug 04, 2020 23:57 UTC</td>\n",
       "      <td>Starship Prototype | 150 Meter Hop</td>\n",
       "      <td>StatusActive</td>\n",
       "      <td>NaN</td>\n",
       "      <td>Success</td>\n",
       "    </tr>\n",
       "    <tr>\n",
       "      <th>3</th>\n",
       "      <td>3</td>\n",
       "      <td>3</td>\n",
       "      <td>Roscosmos</td>\n",
       "      <td>Site 200/39, Baikonur Cosmodrome, Kazakhstan</td>\n",
       "      <td>Thu Jul 30, 2020 21:25 UTC</td>\n",
       "      <td>Proton-M/Briz-M | Ekspress-80 &amp; Ekspress-103</td>\n",
       "      <td>StatusActive</td>\n",
       "      <td>65</td>\n",
       "      <td>Success</td>\n",
       "    </tr>\n",
       "    <tr>\n",
       "      <th>4</th>\n",
       "      <td>4</td>\n",
       "      <td>4</td>\n",
       "      <td>ULA</td>\n",
       "      <td>SLC-41, Cape Canaveral AFS, Florida, USA</td>\n",
       "      <td>Thu Jul 30, 2020 11:50 UTC</td>\n",
       "      <td>Atlas V 541 | Perseverance</td>\n",
       "      <td>StatusActive</td>\n",
       "      <td>145</td>\n",
       "      <td>Success</td>\n",
       "    </tr>\n",
       "  </tbody>\n",
       "</table>\n",
       "</div>"
      ],
      "text/plain": [
       "   Unnamed: 0  Unnamed: 0.1 Company Name  \\\n",
       "0           0             0       SpaceX   \n",
       "1           1             1         CASC   \n",
       "2           2             2       SpaceX   \n",
       "3           3             3    Roscosmos   \n",
       "4           4             4          ULA   \n",
       "\n",
       "                                            Location  \\\n",
       "0         LC-39A, Kennedy Space Center, Florida, USA   \n",
       "1  Site 9401 (SLS-2), Jiuquan Satellite Launch Ce...   \n",
       "2                      Pad A, Boca Chica, Texas, USA   \n",
       "3       Site 200/39, Baikonur Cosmodrome, Kazakhstan   \n",
       "4           SLC-41, Cape Canaveral AFS, Florida, USA   \n",
       "\n",
       "                        Datum                                        Detail  \\\n",
       "0  Fri Aug 07, 2020 05:12 UTC  Falcon 9 Block 5 | Starlink V1 L9 & BlackSky   \n",
       "1  Thu Aug 06, 2020 04:01 UTC           Long March 2D | Gaofen-9 04 & Q-SAT   \n",
       "2  Tue Aug 04, 2020 23:57 UTC            Starship Prototype | 150 Meter Hop   \n",
       "3  Thu Jul 30, 2020 21:25 UTC  Proton-M/Briz-M | Ekspress-80 & Ekspress-103   \n",
       "4  Thu Jul 30, 2020 11:50 UTC                    Atlas V 541 | Perseverance   \n",
       "\n",
       "  Status Rocket  Rocket Status Mission  \n",
       "0  StatusActive      50        Success  \n",
       "1  StatusActive   29.75        Success  \n",
       "2  StatusActive     NaN        Success  \n",
       "3  StatusActive      65        Success  \n",
       "4  StatusActive     145        Success  "
      ]
     },
     "execution_count": 11,
     "metadata": {},
     "output_type": "execute_result"
    }
   ],
   "source": [
    "import pandas as pd\n",
    "\n",
    "space_data = pd.read_csv('Space_Corrected.csv')\n",
    "space_data.head()"
   ]
  },
  {
   "cell_type": "markdown",
   "id": "4f3bb0b1",
   "metadata": {},
   "source": [
    "The <b>\"space_data.head()\"</b> method shows the first 5 dataframe of the total dataset. This comes much more in handy when you just want to show few info contained in the data set."
   ]
  },
  {
   "cell_type": "markdown",
   "id": "6f64b432",
   "metadata": {},
   "source": [
    "We can make use of the <b>\"shape\"</b> method to check the number of rows and columns in the data set"
   ]
  },
  {
   "cell_type": "markdown",
   "id": "eea68226",
   "metadata": {},
   "source": [
    "## READING THE DATA"
   ]
  },
  {
   "cell_type": "code",
   "execution_count": 2,
   "id": "d14a0a96",
   "metadata": {},
   "outputs": [
    {
     "data": {
      "text/plain": [
       "(4324, 9)"
      ]
     },
     "execution_count": 2,
     "metadata": {},
     "output_type": "execute_result"
    }
   ],
   "source": [
    "space_data.shape"
   ]
  },
  {
   "cell_type": "markdown",
   "id": "8e70e015",
   "metadata": {},
   "source": [
    "Okay, with what we can see, the dataset contains 4324 rows and 9 columns. Let's move on to a more descriptive analysis as we read our data set."
   ]
  },
  {
   "cell_type": "markdown",
   "id": "27b1f22c",
   "metadata": {},
   "source": [
    "If we have a Pandas series (either alone or as part of a Pandas dataframe) we can use the <b>\"unique()\"</b> function to identify the unique values, like this"
   ]
  },
  {
   "cell_type": "code",
   "execution_count": 3,
   "id": "bafd246c",
   "metadata": {},
   "outputs": [
    {
     "data": {
      "text/plain": [
       "array(['SpaceX', 'CASC', 'Roscosmos', 'ULA', 'JAXA', 'Northrop', 'ExPace',\n",
       "       'IAI', 'Rocket Lab', 'Virgin Orbit', 'VKS RF', 'MHI', 'IRGC',\n",
       "       'Arianespace', 'ISA', 'Blue Origin', 'ISRO', 'Exos', 'ILS',\n",
       "       'i-Space', 'OneSpace', 'Landspace', 'Eurockot', 'Land Launch',\n",
       "       'CASIC', 'KCST', 'Sandia', 'Kosmotras', 'Khrunichev', 'Sea Launch',\n",
       "       'KARI', 'ESA', 'NASA', 'Boeing', 'ISAS', 'SRC', 'MITT', 'Lockheed',\n",
       "       'AEB', 'Starsem', 'RVSN USSR', 'EER', 'General Dynamics',\n",
       "       'Martin Marietta', 'Yuzhmash', 'Douglas', 'ASI', 'US Air Force',\n",
       "       'CNES', 'CECLES', 'RAE', 'UT', 'OKB-586', 'AMBA',\n",
       "       \"Arm??e de l'Air\", 'US Navy'], dtype=object)"
      ]
     },
     "execution_count": 3,
     "metadata": {},
     "output_type": "execute_result"
    }
   ],
   "source": [
    "space_data['Company Name'].unique()"
   ]
  },
  {
   "cell_type": "markdown",
   "id": "7c5bfb1c",
   "metadata": {},
   "source": [
    "As you can see from here, the listed data series from the \"Company Name\" column contains all the names of the companies that have contributed to the exploration of space missions."
   ]
  },
  {
   "cell_type": "markdown",
   "id": "33fc1fdd",
   "metadata": {},
   "source": [
    "In order to properly wrangle our data and to know what our data entails, it is important we derive some information from our data set. We can do this by using the <b>\"info()\"</b> funtion."
   ]
  },
  {
   "cell_type": "code",
   "execution_count": 4,
   "id": "fc6242b5",
   "metadata": {},
   "outputs": [
    {
     "name": "stdout",
     "output_type": "stream",
     "text": [
      "<class 'pandas.core.frame.DataFrame'>\n",
      "RangeIndex: 4324 entries, 0 to 4323\n",
      "Data columns (total 9 columns):\n",
      " #   Column          Non-Null Count  Dtype \n",
      "---  ------          --------------  ----- \n",
      " 0   Unnamed: 0      4324 non-null   int64 \n",
      " 1   Unnamed: 0.1    4324 non-null   int64 \n",
      " 2   Company Name    4324 non-null   object\n",
      " 3   Location        4324 non-null   object\n",
      " 4   Datum           4324 non-null   object\n",
      " 5   Detail          4324 non-null   object\n",
      " 6   Status Rocket   4324 non-null   object\n",
      " 7    Rocket         964 non-null    object\n",
      " 8   Status Mission  4324 non-null   object\n",
      "dtypes: int64(2), object(7)\n",
      "memory usage: 304.2+ KB\n"
     ]
    }
   ],
   "source": [
    "space_data.info()"
   ]
  },
  {
   "cell_type": "markdown",
   "id": "68f8e2ef",
   "metadata": {},
   "source": [
    "Okay, from the output information gotten we can deduct some analysis from here; \n",
    "* There are 4324 entry datas in total, ranging from 0 to 4323\n",
    "* 9 data columns in total\n",
    "* There 4324 complete non-null values from all the columns data except \"Rocket\" which only have 964 non-null values "
   ]
  },
  {
   "cell_type": "markdown",
   "id": "89d250c7",
   "metadata": {},
   "source": [
    "Nevertheless, we have to detect for any similar columns that might seem to be the the same, to properly determine if it's just a tautology or not. So, let's see if <b>'Unnamed: 0'</b> and <b>'Unnamed: 0.1'</b> might match but we can't jump into conclusions like that, hence we have to check. We can do this with the <strong>\"equals()\"</strong> fuction."
   ]
  },
  {
   "cell_type": "code",
   "execution_count": 5,
   "id": "9a01f7eb",
   "metadata": {},
   "outputs": [
    {
     "data": {
      "text/plain": [
       "False"
      ]
     },
     "execution_count": 5,
     "metadata": {},
     "output_type": "execute_result"
    }
   ],
   "source": [
    "equal_data = space_data[['Unnamed: 0', 'Unnamed: 0.1']]\n",
    "\n",
    "space_data.equals(equal_data)"
   ]
  },
  {
   "cell_type": "markdown",
   "id": "ccd37697",
   "metadata": {},
   "source": [
    "Whoa, awesome! It actually returns \"False\" as our output which tells us that they are the same, even though they contain the same data values."
   ]
  },
  {
   "cell_type": "markdown",
   "id": "570c34e2",
   "metadata": {},
   "source": [
    "### Note: \n",
    "<b>This part was not added to the meduim article!!!</b>"
   ]
  },
  {
   "cell_type": "code",
   "execution_count": 6,
   "id": "837d756d",
   "metadata": {},
   "outputs": [
    {
     "data": {
      "text/html": [
       "<div>\n",
       "<style scoped>\n",
       "    .dataframe tbody tr th:only-of-type {\n",
       "        vertical-align: middle;\n",
       "    }\n",
       "\n",
       "    .dataframe tbody tr th {\n",
       "        vertical-align: top;\n",
       "    }\n",
       "\n",
       "    .dataframe thead th {\n",
       "        text-align: right;\n",
       "    }\n",
       "</style>\n",
       "<table border=\"1\" class=\"dataframe\">\n",
       "  <thead>\n",
       "    <tr style=\"text-align: right;\">\n",
       "      <th></th>\n",
       "      <th>Unnamed: 0</th>\n",
       "      <th>Unnamed: 0.1</th>\n",
       "      <th>Company Name</th>\n",
       "      <th>Location</th>\n",
       "      <th>Datum</th>\n",
       "      <th>Detail</th>\n",
       "      <th>Status Rocket</th>\n",
       "      <th>Rocket</th>\n",
       "      <th>Status Mission</th>\n",
       "    </tr>\n",
       "  </thead>\n",
       "  <tbody>\n",
       "    <tr>\n",
       "      <th>0</th>\n",
       "      <td>False</td>\n",
       "      <td>False</td>\n",
       "      <td>False</td>\n",
       "      <td>False</td>\n",
       "      <td>False</td>\n",
       "      <td>False</td>\n",
       "      <td>False</td>\n",
       "      <td>False</td>\n",
       "      <td>False</td>\n",
       "    </tr>\n",
       "    <tr>\n",
       "      <th>1</th>\n",
       "      <td>False</td>\n",
       "      <td>False</td>\n",
       "      <td>False</td>\n",
       "      <td>False</td>\n",
       "      <td>False</td>\n",
       "      <td>False</td>\n",
       "      <td>False</td>\n",
       "      <td>False</td>\n",
       "      <td>False</td>\n",
       "    </tr>\n",
       "    <tr>\n",
       "      <th>2</th>\n",
       "      <td>False</td>\n",
       "      <td>False</td>\n",
       "      <td>False</td>\n",
       "      <td>False</td>\n",
       "      <td>False</td>\n",
       "      <td>False</td>\n",
       "      <td>False</td>\n",
       "      <td>True</td>\n",
       "      <td>False</td>\n",
       "    </tr>\n",
       "    <tr>\n",
       "      <th>3</th>\n",
       "      <td>False</td>\n",
       "      <td>False</td>\n",
       "      <td>False</td>\n",
       "      <td>False</td>\n",
       "      <td>False</td>\n",
       "      <td>False</td>\n",
       "      <td>False</td>\n",
       "      <td>False</td>\n",
       "      <td>False</td>\n",
       "    </tr>\n",
       "    <tr>\n",
       "      <th>4</th>\n",
       "      <td>False</td>\n",
       "      <td>False</td>\n",
       "      <td>False</td>\n",
       "      <td>False</td>\n",
       "      <td>False</td>\n",
       "      <td>False</td>\n",
       "      <td>False</td>\n",
       "      <td>False</td>\n",
       "      <td>False</td>\n",
       "    </tr>\n",
       "    <tr>\n",
       "      <th>...</th>\n",
       "      <td>...</td>\n",
       "      <td>...</td>\n",
       "      <td>...</td>\n",
       "      <td>...</td>\n",
       "      <td>...</td>\n",
       "      <td>...</td>\n",
       "      <td>...</td>\n",
       "      <td>...</td>\n",
       "      <td>...</td>\n",
       "    </tr>\n",
       "    <tr>\n",
       "      <th>4319</th>\n",
       "      <td>False</td>\n",
       "      <td>False</td>\n",
       "      <td>False</td>\n",
       "      <td>False</td>\n",
       "      <td>False</td>\n",
       "      <td>False</td>\n",
       "      <td>False</td>\n",
       "      <td>True</td>\n",
       "      <td>False</td>\n",
       "    </tr>\n",
       "    <tr>\n",
       "      <th>4320</th>\n",
       "      <td>False</td>\n",
       "      <td>False</td>\n",
       "      <td>False</td>\n",
       "      <td>False</td>\n",
       "      <td>False</td>\n",
       "      <td>False</td>\n",
       "      <td>False</td>\n",
       "      <td>True</td>\n",
       "      <td>False</td>\n",
       "    </tr>\n",
       "    <tr>\n",
       "      <th>4321</th>\n",
       "      <td>False</td>\n",
       "      <td>False</td>\n",
       "      <td>False</td>\n",
       "      <td>False</td>\n",
       "      <td>False</td>\n",
       "      <td>False</td>\n",
       "      <td>False</td>\n",
       "      <td>True</td>\n",
       "      <td>False</td>\n",
       "    </tr>\n",
       "    <tr>\n",
       "      <th>4322</th>\n",
       "      <td>False</td>\n",
       "      <td>False</td>\n",
       "      <td>False</td>\n",
       "      <td>False</td>\n",
       "      <td>False</td>\n",
       "      <td>False</td>\n",
       "      <td>False</td>\n",
       "      <td>True</td>\n",
       "      <td>False</td>\n",
       "    </tr>\n",
       "    <tr>\n",
       "      <th>4323</th>\n",
       "      <td>False</td>\n",
       "      <td>False</td>\n",
       "      <td>False</td>\n",
       "      <td>False</td>\n",
       "      <td>False</td>\n",
       "      <td>False</td>\n",
       "      <td>False</td>\n",
       "      <td>True</td>\n",
       "      <td>False</td>\n",
       "    </tr>\n",
       "  </tbody>\n",
       "</table>\n",
       "<p>4324 rows × 9 columns</p>\n",
       "</div>"
      ],
      "text/plain": [
       "      Unnamed: 0  Unnamed: 0.1  Company Name  Location  Datum  Detail  \\\n",
       "0          False         False         False     False  False   False   \n",
       "1          False         False         False     False  False   False   \n",
       "2          False         False         False     False  False   False   \n",
       "3          False         False         False     False  False   False   \n",
       "4          False         False         False     False  False   False   \n",
       "...          ...           ...           ...       ...    ...     ...   \n",
       "4319       False         False         False     False  False   False   \n",
       "4320       False         False         False     False  False   False   \n",
       "4321       False         False         False     False  False   False   \n",
       "4322       False         False         False     False  False   False   \n",
       "4323       False         False         False     False  False   False   \n",
       "\n",
       "      Status Rocket   Rocket  Status Mission  \n",
       "0             False    False           False  \n",
       "1             False    False           False  \n",
       "2             False     True           False  \n",
       "3             False    False           False  \n",
       "4             False    False           False  \n",
       "...             ...      ...             ...  \n",
       "4319          False     True           False  \n",
       "4320          False     True           False  \n",
       "4321          False     True           False  \n",
       "4322          False     True           False  \n",
       "4323          False     True           False  \n",
       "\n",
       "[4324 rows x 9 columns]"
      ]
     },
     "execution_count": 6,
     "metadata": {},
     "output_type": "execute_result"
    }
   ],
   "source": [
    "space_data.isnull()"
   ]
  },
  {
   "cell_type": "markdown",
   "id": "199deedb",
   "metadata": {},
   "source": [
    "## CLEANING THE DATA"
   ]
  },
  {
   "cell_type": "markdown",
   "id": "de7eae9c",
   "metadata": {},
   "source": [
    "Next, is to check for null values in all our data set."
   ]
  },
  {
   "cell_type": "code",
   "execution_count": 7,
   "id": "d539f13e",
   "metadata": {},
   "outputs": [
    {
     "data": {
      "text/plain": [
       "Unnamed: 0           0\n",
       "Unnamed: 0.1         0\n",
       "Company Name         0\n",
       "Location             0\n",
       "Datum                0\n",
       "Detail               0\n",
       "Status Rocket        0\n",
       " Rocket           3360\n",
       "Status Mission       0\n",
       "dtype: int64"
      ]
     },
     "execution_count": 7,
     "metadata": {},
     "output_type": "execute_result"
    }
   ],
   "source": [
    "space_data.isnull().sum()"
   ]
  },
  {
   "cell_type": "markdown",
   "id": "c8d1bb30",
   "metadata": {},
   "source": [
    "Oops! Looks like we have some cleaning to do. From the result shown above we got \"3360\"  null values out of \"4324\" values in total, only on the <b>Rocket</b> column data series.\n",
    "\n",
    "We can go about this in two ways. Either to drop(i.e remove) the row where the null values are found or filling them all with zero. What do you suggest? Definitely, it will be better if we go with the latter because we don't want a situation where we will loose other important data and that won't be good enough to ensure our data is well organized. So, to do that we will fill the null values with '0' using the <b>\"fillna()\"</b> funtion. "
   ]
  },
  {
   "cell_type": "code",
   "execution_count": 8,
   "id": "c13906e3",
   "metadata": {},
   "outputs": [
    {
     "data": {
      "text/plain": [
       "Unnamed: 0        0\n",
       "Unnamed: 0.1      0\n",
       "Company Name      0\n",
       "Location          0\n",
       "Datum             0\n",
       "Detail            0\n",
       "Status Rocket     0\n",
       " Rocket           0\n",
       "Status Mission    0\n",
       "dtype: int64"
      ]
     },
     "execution_count": 8,
     "metadata": {},
     "output_type": "execute_result"
    }
   ],
   "source": [
    "space_data[' Rocket'].fillna('0.0', inplace=True)\n",
    "space_data.isnull().sum()"
   ]
  },
  {
   "cell_type": "markdown",
   "id": "df140e97",
   "metadata": {},
   "source": [
    "Touché! Now we've gotten rid of our null values. Let's proceed."
   ]
  },
  {
   "cell_type": "markdown",
   "id": "0087a7bf",
   "metadata": {},
   "source": [
    "Checking for duplicated files is another way to ensure our data set is well wrangled"
   ]
  },
  {
   "cell_type": "code",
   "execution_count": 9,
   "id": "62ce9047",
   "metadata": {},
   "outputs": [
    {
     "data": {
      "text/plain": [
       "0"
      ]
     },
     "execution_count": 9,
     "metadata": {},
     "output_type": "execute_result"
    }
   ],
   "source": [
    "space_data.duplicated().sum()"
   ]
  },
  {
   "cell_type": "markdown",
   "id": "b981b918",
   "metadata": {},
   "source": [
    "### SORTING/FILTERING THE DATA SET"
   ]
  },
  {
   "cell_type": "markdown",
   "id": "4c6edc54",
   "metadata": {},
   "source": [
    "In addition, we can filter our data and sort them into similar occuring data. From the raw data, we can see that they have been recorded values where the status of some rockets have not been active and some of those missions were unsuccessful. With this little analysis we can filter them from the rockets that are still active and were successful."
   ]
  },
  {
   "cell_type": "code",
   "execution_count": 10,
   "id": "034d41a5",
   "metadata": {},
   "outputs": [
    {
     "data": {
      "text/html": [
       "<div>\n",
       "<style scoped>\n",
       "    .dataframe tbody tr th:only-of-type {\n",
       "        vertical-align: middle;\n",
       "    }\n",
       "\n",
       "    .dataframe tbody tr th {\n",
       "        vertical-align: top;\n",
       "    }\n",
       "\n",
       "    .dataframe thead th {\n",
       "        text-align: right;\n",
       "    }\n",
       "</style>\n",
       "<table border=\"1\" class=\"dataframe\">\n",
       "  <thead>\n",
       "    <tr style=\"text-align: right;\">\n",
       "      <th></th>\n",
       "      <th>Unnamed: 0</th>\n",
       "      <th>Unnamed: 0.1</th>\n",
       "      <th>Company Name</th>\n",
       "      <th>Location</th>\n",
       "      <th>Datum</th>\n",
       "      <th>Detail</th>\n",
       "      <th>Status Rocket</th>\n",
       "      <th>Rocket</th>\n",
       "      <th>Status Mission</th>\n",
       "    </tr>\n",
       "  </thead>\n",
       "  <tbody>\n",
       "    <tr>\n",
       "      <th>0</th>\n",
       "      <td>202</td>\n",
       "      <td>202</td>\n",
       "      <td>Landspace</td>\n",
       "      <td>Site 95, Jiuquan Satellite Launch Center, China</td>\n",
       "      <td>Sat Oct 27, 2018 08:00 UTC</td>\n",
       "      <td>ZhuQue-1 | CCTV Future-1</td>\n",
       "      <td>StatusRetired</td>\n",
       "      <td>0.0</td>\n",
       "      <td>Failure</td>\n",
       "    </tr>\n",
       "    <tr>\n",
       "      <th>1</th>\n",
       "      <td>208</td>\n",
       "      <td>208</td>\n",
       "      <td>Roscosmos</td>\n",
       "      <td>Site 1/5, Baikonur Cosmodrome, Kazakhstan</td>\n",
       "      <td>Thu Oct 11, 2018 08:40 UTC</td>\n",
       "      <td>Soyuz FG | Soyuz MS-10 (56S)</td>\n",
       "      <td>StatusRetired</td>\n",
       "      <td>0.0</td>\n",
       "      <td>Failure</td>\n",
       "    </tr>\n",
       "    <tr>\n",
       "      <th>2</th>\n",
       "      <td>392</td>\n",
       "      <td>392</td>\n",
       "      <td>Roscosmos</td>\n",
       "      <td>Site 1/5, Baikonur Cosmodrome, Kazakhstan</td>\n",
       "      <td>Thu Dec 01, 2016 14:52 UTC</td>\n",
       "      <td>Soyuz U | Progress MS-04</td>\n",
       "      <td>StatusRetired</td>\n",
       "      <td>0.0</td>\n",
       "      <td>Failure</td>\n",
       "    </tr>\n",
       "    <tr>\n",
       "      <th>3</th>\n",
       "      <td>413</td>\n",
       "      <td>413</td>\n",
       "      <td>SpaceX</td>\n",
       "      <td>SLC-40, Cape Canaveral AFS, Florida, USA</td>\n",
       "      <td>Thu Sep 01, 2016 13:07 UTC</td>\n",
       "      <td>Falcon 9 Block 3 | AMOS-6</td>\n",
       "      <td>StatusRetired</td>\n",
       "      <td>62</td>\n",
       "      <td>Prelaunch Failure</td>\n",
       "    </tr>\n",
       "    <tr>\n",
       "      <th>4</th>\n",
       "      <td>499</td>\n",
       "      <td>499</td>\n",
       "      <td>SpaceX</td>\n",
       "      <td>SLC-40, Cape Canaveral AFS, Florida, USA</td>\n",
       "      <td>Sun Jun 28, 2015 14:21 UTC</td>\n",
       "      <td>Falcon 9 v1.1 | CRS-7</td>\n",
       "      <td>StatusRetired</td>\n",
       "      <td>56.5</td>\n",
       "      <td>Failure</td>\n",
       "    </tr>\n",
       "    <tr>\n",
       "      <th>...</th>\n",
       "      <td>...</td>\n",
       "      <td>...</td>\n",
       "      <td>...</td>\n",
       "      <td>...</td>\n",
       "      <td>...</td>\n",
       "      <td>...</td>\n",
       "      <td>...</td>\n",
       "      <td>...</td>\n",
       "      <td>...</td>\n",
       "    </tr>\n",
       "    <tr>\n",
       "      <th>386</th>\n",
       "      <td>4314</td>\n",
       "      <td>4314</td>\n",
       "      <td>US Navy</td>\n",
       "      <td>LC-18A, Cape Canaveral AFS, Florida, USA</td>\n",
       "      <td>Mon Apr 28, 1958 02:53 UTC</td>\n",
       "      <td>Vanguard | Vanguard TV5</td>\n",
       "      <td>StatusRetired</td>\n",
       "      <td>0.0</td>\n",
       "      <td>Failure</td>\n",
       "    </tr>\n",
       "    <tr>\n",
       "      <th>387</th>\n",
       "      <td>4315</td>\n",
       "      <td>4315</td>\n",
       "      <td>RVSN USSR</td>\n",
       "      <td>Site 1/5, Baikonur Cosmodrome, Kazakhstan</td>\n",
       "      <td>Sun Apr 27, 1958 09:01 UTC</td>\n",
       "      <td>Sputnik 8A91 | Sputnik-3 #1</td>\n",
       "      <td>StatusRetired</td>\n",
       "      <td>0.0</td>\n",
       "      <td>Failure</td>\n",
       "    </tr>\n",
       "    <tr>\n",
       "      <th>388</th>\n",
       "      <td>4318</td>\n",
       "      <td>4318</td>\n",
       "      <td>AMBA</td>\n",
       "      <td>LC-26A, Cape Canaveral AFS, Florida, USA</td>\n",
       "      <td>Wed Mar 05, 1958 18:27 UTC</td>\n",
       "      <td>Juno I | Explorer 2</td>\n",
       "      <td>StatusRetired</td>\n",
       "      <td>0.0</td>\n",
       "      <td>Failure</td>\n",
       "    </tr>\n",
       "    <tr>\n",
       "      <th>389</th>\n",
       "      <td>4319</td>\n",
       "      <td>4319</td>\n",
       "      <td>US Navy</td>\n",
       "      <td>LC-18A, Cape Canaveral AFS, Florida, USA</td>\n",
       "      <td>Wed Feb 05, 1958 07:33 UTC</td>\n",
       "      <td>Vanguard | Vanguard TV3BU</td>\n",
       "      <td>StatusRetired</td>\n",
       "      <td>0.0</td>\n",
       "      <td>Failure</td>\n",
       "    </tr>\n",
       "    <tr>\n",
       "      <th>390</th>\n",
       "      <td>4321</td>\n",
       "      <td>4321</td>\n",
       "      <td>US Navy</td>\n",
       "      <td>LC-18A, Cape Canaveral AFS, Florida, USA</td>\n",
       "      <td>Fri Dec 06, 1957 16:44 UTC</td>\n",
       "      <td>Vanguard | Vanguard TV3</td>\n",
       "      <td>StatusRetired</td>\n",
       "      <td>0.0</td>\n",
       "      <td>Failure</td>\n",
       "    </tr>\n",
       "  </tbody>\n",
       "</table>\n",
       "<p>391 rows × 9 columns</p>\n",
       "</div>"
      ],
      "text/plain": [
       "     Unnamed: 0  Unnamed: 0.1 Company Name  \\\n",
       "0           202           202    Landspace   \n",
       "1           208           208    Roscosmos   \n",
       "2           392           392    Roscosmos   \n",
       "3           413           413       SpaceX   \n",
       "4           499           499       SpaceX   \n",
       "..          ...           ...          ...   \n",
       "386        4314          4314      US Navy   \n",
       "387        4315          4315    RVSN USSR   \n",
       "388        4318          4318         AMBA   \n",
       "389        4319          4319      US Navy   \n",
       "390        4321          4321      US Navy   \n",
       "\n",
       "                                            Location  \\\n",
       "0    Site 95, Jiuquan Satellite Launch Center, China   \n",
       "1          Site 1/5, Baikonur Cosmodrome, Kazakhstan   \n",
       "2          Site 1/5, Baikonur Cosmodrome, Kazakhstan   \n",
       "3           SLC-40, Cape Canaveral AFS, Florida, USA   \n",
       "4           SLC-40, Cape Canaveral AFS, Florida, USA   \n",
       "..                                               ...   \n",
       "386         LC-18A, Cape Canaveral AFS, Florida, USA   \n",
       "387        Site 1/5, Baikonur Cosmodrome, Kazakhstan   \n",
       "388         LC-26A, Cape Canaveral AFS, Florida, USA   \n",
       "389         LC-18A, Cape Canaveral AFS, Florida, USA   \n",
       "390         LC-18A, Cape Canaveral AFS, Florida, USA   \n",
       "\n",
       "                          Datum                        Detail  Status Rocket  \\\n",
       "0    Sat Oct 27, 2018 08:00 UTC      ZhuQue-1 | CCTV Future-1  StatusRetired   \n",
       "1    Thu Oct 11, 2018 08:40 UTC  Soyuz FG | Soyuz MS-10 (56S)  StatusRetired   \n",
       "2    Thu Dec 01, 2016 14:52 UTC      Soyuz U | Progress MS-04  StatusRetired   \n",
       "3    Thu Sep 01, 2016 13:07 UTC     Falcon 9 Block 3 | AMOS-6  StatusRetired   \n",
       "4    Sun Jun 28, 2015 14:21 UTC         Falcon 9 v1.1 | CRS-7  StatusRetired   \n",
       "..                          ...                           ...            ...   \n",
       "386  Mon Apr 28, 1958 02:53 UTC       Vanguard | Vanguard TV5  StatusRetired   \n",
       "387  Sun Apr 27, 1958 09:01 UTC   Sputnik 8A91 | Sputnik-3 #1  StatusRetired   \n",
       "388  Wed Mar 05, 1958 18:27 UTC           Juno I | Explorer 2  StatusRetired   \n",
       "389  Wed Feb 05, 1958 07:33 UTC     Vanguard | Vanguard TV3BU  StatusRetired   \n",
       "390  Fri Dec 06, 1957 16:44 UTC       Vanguard | Vanguard TV3  StatusRetired   \n",
       "\n",
       "     Rocket     Status Mission  \n",
       "0       0.0            Failure  \n",
       "1       0.0            Failure  \n",
       "2       0.0            Failure  \n",
       "3        62  Prelaunch Failure  \n",
       "4      56.5            Failure  \n",
       "..      ...                ...  \n",
       "386     0.0            Failure  \n",
       "387     0.0            Failure  \n",
       "388     0.0            Failure  \n",
       "389     0.0            Failure  \n",
       "390     0.0            Failure  \n",
       "\n",
       "[391 rows x 9 columns]"
      ]
     },
     "execution_count": 10,
     "metadata": {},
     "output_type": "execute_result"
    }
   ],
   "source": [
    "new_data = space_data.loc[(space_data['Status Rocket'] != 'StatusActive') & (space_data['Status Mission'] != 'Success')]\n",
    "\n",
    "new_data.reset_index(drop=True, inplace=True)\n",
    "\n",
    "# new_data.to_csv('filtered_data.csv')\n",
    "\n",
    "new_data"
   ]
  },
  {
   "cell_type": "markdown",
   "id": "e260c601",
   "metadata": {},
   "source": [
    "Awesome! We can now properly see the the retired rockets that their missions were recorded as a failure. Also you can also see that this sorted data had been saved into a new \"csv\" file."
   ]
  },
  {
   "cell_type": "markdown",
   "id": "2503ce06",
   "metadata": {},
   "source": [
    "Now, we can go on to visualizing and analyzing our dataset, watch out for that in my next article. Here is the link to the GitHub repo. Thank you for reading!"
   ]
  },
  {
   "cell_type": "code",
   "execution_count": null,
   "id": "1706a346",
   "metadata": {},
   "outputs": [],
   "source": []
  }
 ],
 "metadata": {
  "kernelspec": {
   "display_name": "Python 3",
   "language": "python",
   "name": "python3"
  },
  "language_info": {
   "codemirror_mode": {
    "name": "ipython",
    "version": 3
   },
   "file_extension": ".py",
   "mimetype": "text/x-python",
   "name": "python",
   "nbconvert_exporter": "python",
   "pygments_lexer": "ipython3",
   "version": "3.8.8"
  }
 },
 "nbformat": 4,
 "nbformat_minor": 5
}
